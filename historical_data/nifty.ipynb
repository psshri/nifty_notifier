{
 "cells": [
  {
   "cell_type": "code",
   "execution_count": 239,
   "metadata": {},
   "outputs": [],
   "source": [
    "import yfinance as yf\n",
    "import pandas as pd\n",
    "from datetime import datetime, timedelta"
   ]
  },
  {
   "cell_type": "code",
   "execution_count": 240,
   "metadata": {},
   "outputs": [],
   "source": [
    "ticker = \"^NSEI\""
   ]
  },
  {
   "cell_type": "code",
   "execution_count": 241,
   "metadata": {},
   "outputs": [],
   "source": [
    "# end_date = datetime.now()\n",
    "# start_date = end_date - timedelta(days=730)  # 2 years ago"
   ]
  },
  {
   "cell_type": "code",
   "execution_count": 242,
   "metadata": {},
   "outputs": [],
   "source": [
    "# print(end_date)\n",
    "# print(start_date)"
   ]
  },
  {
   "cell_type": "code",
   "execution_count": 243,
   "metadata": {},
   "outputs": [],
   "source": [
    "# start_date.strftime('%Y-%m-%d')"
   ]
  },
  {
   "cell_type": "code",
   "execution_count": 244,
   "metadata": {},
   "outputs": [
    {
     "name": "stdout",
     "output_type": "stream",
     "text": [
      "[*********************100%%**********************]  1 of 1 completed\n"
     ]
    }
   ],
   "source": [
    "# data = yf.download(ticker, start=start_date.strftime('%Y-%m-%d'), end=end_date.strftime('%Y-%m-%d'))\n",
    "data = yf.download(ticker, start='2024-01-01', end='2025-12-31')"
   ]
  },
  {
   "cell_type": "code",
   "execution_count": 245,
   "metadata": {},
   "outputs": [],
   "source": [
    "data['Change'] = (data['Close'] - data['Close'].shift(1)) / data['Close'].shift(1) * 100\n",
    "data['Change'] = data['Change'].round(2)"
   ]
  },
  {
   "cell_type": "code",
   "execution_count": 246,
   "metadata": {},
   "outputs": [],
   "source": [
    "data.to_csv('nifty_13_09_2022_to_12_09_2024.csv')"
   ]
  },
  {
   "cell_type": "code",
   "execution_count": 247,
   "metadata": {},
   "outputs": [
    {
     "data": {
      "text/html": [
       "<div>\n",
       "<style scoped>\n",
       "    .dataframe tbody tr th:only-of-type {\n",
       "        vertical-align: middle;\n",
       "    }\n",
       "\n",
       "    .dataframe tbody tr th {\n",
       "        vertical-align: top;\n",
       "    }\n",
       "\n",
       "    .dataframe thead th {\n",
       "        text-align: right;\n",
       "    }\n",
       "</style>\n",
       "<table border=\"1\" class=\"dataframe\">\n",
       "  <thead>\n",
       "    <tr style=\"text-align: right;\">\n",
       "      <th></th>\n",
       "      <th>Open</th>\n",
       "      <th>High</th>\n",
       "      <th>Low</th>\n",
       "      <th>Close</th>\n",
       "      <th>Adj Close</th>\n",
       "      <th>Volume</th>\n",
       "      <th>Change</th>\n",
       "    </tr>\n",
       "    <tr>\n",
       "      <th>Date</th>\n",
       "      <th></th>\n",
       "      <th></th>\n",
       "      <th></th>\n",
       "      <th></th>\n",
       "      <th></th>\n",
       "      <th></th>\n",
       "      <th></th>\n",
       "    </tr>\n",
       "  </thead>\n",
       "  <tbody>\n",
       "    <tr>\n",
       "      <th>2024-09-11</th>\n",
       "      <td>25034.000000</td>\n",
       "      <td>25113.699219</td>\n",
       "      <td>24885.150391</td>\n",
       "      <td>24918.449219</td>\n",
       "      <td>24918.449219</td>\n",
       "      <td>279200</td>\n",
       "      <td>-0.49</td>\n",
       "    </tr>\n",
       "    <tr>\n",
       "      <th>2024-09-12</th>\n",
       "      <td>25059.650391</td>\n",
       "      <td>25430.400391</td>\n",
       "      <td>24941.449219</td>\n",
       "      <td>25388.900391</td>\n",
       "      <td>25388.900391</td>\n",
       "      <td>0</td>\n",
       "      <td>1.89</td>\n",
       "    </tr>\n",
       "  </tbody>\n",
       "</table>\n",
       "</div>"
      ],
      "text/plain": [
       "                    Open          High           Low         Close  \\\n",
       "Date                                                                 \n",
       "2024-09-11  25034.000000  25113.699219  24885.150391  24918.449219   \n",
       "2024-09-12  25059.650391  25430.400391  24941.449219  25388.900391   \n",
       "\n",
       "               Adj Close  Volume  Change  \n",
       "Date                                      \n",
       "2024-09-11  24918.449219  279200   -0.49  \n",
       "2024-09-12  25388.900391       0    1.89  "
      ]
     },
     "execution_count": 247,
     "metadata": {},
     "output_type": "execute_result"
    }
   ],
   "source": [
    "data.tail(2)"
   ]
  },
  {
   "cell_type": "code",
   "execution_count": 248,
   "metadata": {},
   "outputs": [
    {
     "data": {
      "text/plain": [
       "172"
      ]
     },
     "execution_count": 248,
     "metadata": {},
     "output_type": "execute_result"
    }
   ],
   "source": [
    "len(data)"
   ]
  },
  {
   "cell_type": "code",
   "execution_count": 249,
   "metadata": {},
   "outputs": [],
   "source": [
    "range_dict = {\n",
    "    'a': '(-∞, -4%]',\n",
    "    'b': '(-4% to -3.5%]',\n",
    "    'c': '(-3.5% to -3.0%]',\n",
    "    'd': '(-3.0% to -2.5%]',\n",
    "    'e': '(-2.5% to -2.0%]',\n",
    "    'f': '(-2.0% to -1.5%]',\n",
    "    'g': '(-1.5% to -1.0%]',\n",
    "    'h': '(-1.0% to -0.5%]',\n",
    "    'i': '(-0.5% to 0%]',\n",
    "    'j': '(0% to 0.5%]',\n",
    "    'k': '(0.5% to 1.0%]',\n",
    "    'l': '(1.0% to 1.5%]',\n",
    "    'm': '(1.5% to 2.0%]',\n",
    "    'n': '(2.0% to 2.5%]',\n",
    "    'o': '(2.5% to 3.0%]',\n",
    "    'p': '(3.0% to 3.5%]',\n",
    "    'q': '(3.5% to 4.0%]',\n",
    "    'r': '(4.0% to ∞)'\n",
    "}"
   ]
  },
  {
   "cell_type": "code",
   "execution_count": 250,
   "metadata": {},
   "outputs": [],
   "source": [
    "a = data[data['Change'] <= -4].shape[0]\n",
    "b = data[(data['Change'] > -4) & (data['Change'] <= -3.5)].shape[0]\n",
    "c = data[(data['Change'] > -3.5) & (data['Change'] <= -3.0)].shape[0]\n",
    "d = data[(data['Change'] > -3.0) & (data['Change'] <= -2.5)].shape[0]\n",
    "e = data[(data['Change'] > -2.5) & (data['Change'] <= -2.0)].shape[0]\n",
    "f = data[(data['Change'] > -2.0) & (data['Change'] <= -1.5)].shape[0]\n",
    "g = data[(data['Change'] > -1.5) & (data['Change'] <= -1.0)].shape[0]\n",
    "h = data[(data['Change'] > -1.0) & (data['Change'] <= -0.5)].shape[0]\n",
    "i = data[(data['Change'] > -0.5) & (data['Change'] <= 0)].shape[0]\n",
    "j = data[(data['Change'] > 0) & (data['Change'] <= 0.5)].shape[0]\n",
    "k = data[(data['Change'] > 0.5) & (data['Change'] <= 1.0)].shape[0]\n",
    "l = data[(data['Change'] > 1.0) & (data['Change'] <= 1.5)].shape[0]\n",
    "m = data[(data['Change'] > 1.5) & (data['Change'] <= 2.0)].shape[0]\n",
    "n = data[(data['Change'] > 2.0) & (data['Change'] <= 2.5)].shape[0]\n",
    "o = data[(data['Change'] > 2.5) & (data['Change'] <= 3.0)].shape[0]\n",
    "p = data[(data['Change'] > 3.0) & (data['Change'] <= 3.5)].shape[0]\n",
    "q = data[(data['Change'] > 3.5) & (data['Change'] <= 4.0)].shape[0]\n",
    "r = data[(data['Change'] > 4.0)].shape[0]"
   ]
  },
  {
   "cell_type": "code",
   "execution_count": 251,
   "metadata": {},
   "outputs": [],
   "source": [
    "count_dict = {\n",
    "    'a': a,\n",
    "    'b': b,\n",
    "    'c': c,\n",
    "    'd': d,\n",
    "    'e': e,\n",
    "    'f': f,\n",
    "    'g': g,\n",
    "    'h': h,\n",
    "    'i': i,\n",
    "    'j': j,\n",
    "    'k': k,\n",
    "    'l': l,\n",
    "    'm': m,\n",
    "    'n': n,\n",
    "    'o': o,\n",
    "    'p': p,\n",
    "    'q': q,\n",
    "    'r': r\n",
    "}"
   ]
  },
  {
   "cell_type": "code",
   "execution_count": 252,
   "metadata": {},
   "outputs": [],
   "source": [
    "data_for_df = {\n",
    "    'Range': list(range_dict.values()),\n",
    "    'Count': [count_dict[key] for key in count_dict.keys()]\n",
    "}"
   ]
  },
  {
   "cell_type": "code",
   "execution_count": 253,
   "metadata": {},
   "outputs": [],
   "source": [
    "result_df = pd.DataFrame(data_for_df)\n",
    "result_df['Fraction'] = ((result_df['Count'] / len(data)) * 100).round(2)"
   ]
  },
  {
   "cell_type": "code",
   "execution_count": 254,
   "metadata": {},
   "outputs": [
    {
     "data": {
      "text/html": [
       "<div>\n",
       "<style scoped>\n",
       "    .dataframe tbody tr th:only-of-type {\n",
       "        vertical-align: middle;\n",
       "    }\n",
       "\n",
       "    .dataframe tbody tr th {\n",
       "        vertical-align: top;\n",
       "    }\n",
       "\n",
       "    .dataframe thead th {\n",
       "        text-align: right;\n",
       "    }\n",
       "</style>\n",
       "<table border=\"1\" class=\"dataframe\">\n",
       "  <thead>\n",
       "    <tr style=\"text-align: right;\">\n",
       "      <th></th>\n",
       "      <th>Range</th>\n",
       "      <th>Count</th>\n",
       "      <th>Fraction</th>\n",
       "    </tr>\n",
       "  </thead>\n",
       "  <tbody>\n",
       "    <tr>\n",
       "      <th>0</th>\n",
       "      <td>(-∞, -4%]</td>\n",
       "      <td>1</td>\n",
       "      <td>0.58</td>\n",
       "    </tr>\n",
       "    <tr>\n",
       "      <th>1</th>\n",
       "      <td>(-4% to -3.5%]</td>\n",
       "      <td>0</td>\n",
       "      <td>0.00</td>\n",
       "    </tr>\n",
       "    <tr>\n",
       "      <th>2</th>\n",
       "      <td>(-3.5% to -3.0%]</td>\n",
       "      <td>0</td>\n",
       "      <td>0.00</td>\n",
       "    </tr>\n",
       "    <tr>\n",
       "      <th>3</th>\n",
       "      <td>(-3.0% to -2.5%]</td>\n",
       "      <td>1</td>\n",
       "      <td>0.58</td>\n",
       "    </tr>\n",
       "    <tr>\n",
       "      <th>4</th>\n",
       "      <td>(-2.5% to -2.0%]</td>\n",
       "      <td>1</td>\n",
       "      <td>0.58</td>\n",
       "    </tr>\n",
       "    <tr>\n",
       "      <th>5</th>\n",
       "      <td>(-2.0% to -1.5%]</td>\n",
       "      <td>3</td>\n",
       "      <td>1.74</td>\n",
       "    </tr>\n",
       "    <tr>\n",
       "      <th>6</th>\n",
       "      <td>(-1.5% to -1.0%]</td>\n",
       "      <td>7</td>\n",
       "      <td>4.07</td>\n",
       "    </tr>\n",
       "    <tr>\n",
       "      <th>7</th>\n",
       "      <td>(-1.0% to -0.5%]</td>\n",
       "      <td>18</td>\n",
       "      <td>10.47</td>\n",
       "    </tr>\n",
       "    <tr>\n",
       "      <th>8</th>\n",
       "      <td>(-0.5% to 0%]</td>\n",
       "      <td>38</td>\n",
       "      <td>22.09</td>\n",
       "    </tr>\n",
       "    <tr>\n",
       "      <th>9</th>\n",
       "      <td>(0% to 0.5%]</td>\n",
       "      <td>57</td>\n",
       "      <td>33.14</td>\n",
       "    </tr>\n",
       "    <tr>\n",
       "      <th>10</th>\n",
       "      <td>(0.5% to 1.0%]</td>\n",
       "      <td>32</td>\n",
       "      <td>18.60</td>\n",
       "    </tr>\n",
       "    <tr>\n",
       "      <th>11</th>\n",
       "      <td>(1.0% to 1.5%]</td>\n",
       "      <td>4</td>\n",
       "      <td>2.33</td>\n",
       "    </tr>\n",
       "    <tr>\n",
       "      <th>12</th>\n",
       "      <td>(1.5% to 2.0%]</td>\n",
       "      <td>6</td>\n",
       "      <td>3.49</td>\n",
       "    </tr>\n",
       "    <tr>\n",
       "      <th>13</th>\n",
       "      <td>(2.0% to 2.5%]</td>\n",
       "      <td>1</td>\n",
       "      <td>0.58</td>\n",
       "    </tr>\n",
       "    <tr>\n",
       "      <th>14</th>\n",
       "      <td>(2.5% to 3.0%]</td>\n",
       "      <td>0</td>\n",
       "      <td>0.00</td>\n",
       "    </tr>\n",
       "    <tr>\n",
       "      <th>15</th>\n",
       "      <td>(3.0% to 3.5%]</td>\n",
       "      <td>2</td>\n",
       "      <td>1.16</td>\n",
       "    </tr>\n",
       "    <tr>\n",
       "      <th>16</th>\n",
       "      <td>(3.5% to 4.0%]</td>\n",
       "      <td>0</td>\n",
       "      <td>0.00</td>\n",
       "    </tr>\n",
       "    <tr>\n",
       "      <th>17</th>\n",
       "      <td>(4.0% to ∞)</td>\n",
       "      <td>0</td>\n",
       "      <td>0.00</td>\n",
       "    </tr>\n",
       "  </tbody>\n",
       "</table>\n",
       "</div>"
      ],
      "text/plain": [
       "               Range  Count  Fraction\n",
       "0          (-∞, -4%]      1      0.58\n",
       "1     (-4% to -3.5%]      0      0.00\n",
       "2   (-3.5% to -3.0%]      0      0.00\n",
       "3   (-3.0% to -2.5%]      1      0.58\n",
       "4   (-2.5% to -2.0%]      1      0.58\n",
       "5   (-2.0% to -1.5%]      3      1.74\n",
       "6   (-1.5% to -1.0%]      7      4.07\n",
       "7   (-1.0% to -0.5%]     18     10.47\n",
       "8      (-0.5% to 0%]     38     22.09\n",
       "9       (0% to 0.5%]     57     33.14\n",
       "10    (0.5% to 1.0%]     32     18.60\n",
       "11    (1.0% to 1.5%]      4      2.33\n",
       "12    (1.5% to 2.0%]      6      3.49\n",
       "13    (2.0% to 2.5%]      1      0.58\n",
       "14    (2.5% to 3.0%]      0      0.00\n",
       "15    (3.0% to 3.5%]      2      1.16\n",
       "16    (3.5% to 4.0%]      0      0.00\n",
       "17       (4.0% to ∞)      0      0.00"
      ]
     },
     "execution_count": 254,
     "metadata": {},
     "output_type": "execute_result"
    }
   ],
   "source": [
    "result_df"
   ]
  },
  {
   "cell_type": "code",
   "execution_count": 255,
   "metadata": {},
   "outputs": [
    {
     "name": "stdout",
     "output_type": "stream",
     "text": [
      "84.3\n",
      "145\n"
     ]
    }
   ],
   "source": [
    "# (-1 to 1]\n",
    "print(round(result_df['Fraction'][7] + result_df['Fraction'][8] + result_df['Fraction'][9] + result_df['Fraction'][10], 2))\n",
    "print(round(result_df['Count'][7] + result_df['Count'][8] + result_df['Count'][9] + result_df['Count'][10], 2))"
   ]
  },
  {
   "cell_type": "code",
   "execution_count": 256,
   "metadata": {},
   "outputs": [
    {
     "name": "stdout",
     "output_type": "stream",
     "text": [
      "7.55\n",
      "13\n"
     ]
    }
   ],
   "source": [
    "# less than -1\n",
    "print(round(result_df['Fraction'][0] + result_df['Fraction'][1] + result_df['Fraction'][2] + result_df['Fraction'][3] + result_df['Fraction'][4] + result_df['Fraction'][5] + result_df['Fraction'][6], 2))\n",
    "print(round(result_df['Count'][0] + result_df['Count'][1] + result_df['Count'][2] + result_df['Count'][3] + result_df['Count'][4] + result_df['Count'][5] + result_df['Count'][6], 2))"
   ]
  },
  {
   "cell_type": "code",
   "execution_count": 257,
   "metadata": {},
   "outputs": [
    {
     "name": "stdout",
     "output_type": "stream",
     "text": [
      "7.56\n",
      "13\n"
     ]
    }
   ],
   "source": [
    "# greater than 1\n",
    "print(round(result_df['Fraction'][11] + result_df['Fraction'][12] + result_df['Fraction'][13] + result_df['Fraction'][14] + result_df['Fraction'][15] + result_df['Fraction'][16] + result_df['Fraction'][17], 2))\n",
    "print(round(result_df['Count'][11] + result_df['Count'][12] + result_df['Count'][13] + result_df['Count'][14] + result_df['Count'][15] + result_df['Count'][16] + result_df['Count'][17], 2))"
   ]
  },
  {
   "cell_type": "code",
   "execution_count": 258,
   "metadata": {},
   "outputs": [
    {
     "data": {
      "text/plain": [
       "172"
      ]
     },
     "execution_count": 258,
     "metadata": {},
     "output_type": "execute_result"
    }
   ],
   "source": [
    "len(data)"
   ]
  }
 ],
 "metadata": {
  "kernelspec": {
   "display_name": "Python 3",
   "language": "python",
   "name": "python3"
  },
  "language_info": {
   "codemirror_mode": {
    "name": "ipython",
    "version": 3
   },
   "file_extension": ".py",
   "mimetype": "text/x-python",
   "name": "python",
   "nbconvert_exporter": "python",
   "pygments_lexer": "ipython3",
   "version": "3.10.12"
  }
 },
 "nbformat": 4,
 "nbformat_minor": 2
}
